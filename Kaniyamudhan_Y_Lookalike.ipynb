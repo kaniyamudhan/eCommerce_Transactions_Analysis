{
 "cells": [
  {
   "cell_type": "code",
   "execution_count": 20,
   "id": "a219431f-3a9c-42c0-8c76-88888bcee31f",
   "metadata": {},
   "outputs": [],
   "source": [
    "import pandas as pd\n",
    "from sklearn.metrics.pairwise import cosine_similarity\n",
    "from sklearn.preprocessing import StandardScaler"
   ]
  },
  {
   "cell_type": "code",
   "execution_count": 9,
   "id": "a9685485-5edd-4a44-9d84-d8979bec7537",
   "metadata": {},
   "outputs": [],
   "source": [
    "customers=pd.read_csv(\"Customers.csv\")\n",
    "products=pd.read_csv(\"Products.csv\")\n",
    "transactions=pd.read_csv(\"Transactions.csv\")"
   ]
  },
  {
   "cell_type": "code",
   "execution_count": 10,
   "id": "f8a7133f-8714-48e0-880d-8c00798ca088",
   "metadata": {},
   "outputs": [],
   "source": [
    "# Convert date columns to datetime format\n",
    "customers[\"SignupDate\"]=pd.to_datetime(customers[\"SignupDate\"])\n",
    "transactions[\"TransactionDate\"]=pd.to_datetime(transactions[\"TransactionDate\"])"
   ]
  },
  {
   "cell_type": "code",
   "execution_count": 21,
   "id": "ee0e7c49-6ea7-4717-b60e-b65a6986c9cb",
   "metadata": {},
   "outputs": [],
   "source": [
    "# Merge datasets\n",
    "transactions_merged=transactions.merge(customers,on=\"CustomerID\",how=\"left\")\n",
    "transactions_merged=transactions_merged.merge(products,on=\"ProductID\",how=\"left\")"
   ]
  },
  {
   "cell_type": "code",
   "execution_count": 12,
   "id": "be236daa-06f6-45ea-b085-1256c9c716d4",
   "metadata": {},
   "outputs": [],
   "source": [
    "# Filter for the first 20 customers\n",
    "first_20_customers =customers[customers[\"CustomerID\"].isin([f\"C{str(i).zfill(4)}\" for i in range(1,21)])]"
   ]
  },
  {
   "cell_type": "code",
   "execution_count": 13,
   "id": "2362e9cc-30df-41af-845b-2be14f53e4e2",
   "metadata": {},
   "outputs": [],
   "source": [
    "# Feature engineering: Create aggregated features for each customer\n",
    "customer_features=(\n",
    "    transactions_merged.groupby(\"CustomerID\")\n",
    "    .agg(\n",
    "        total_spent=(\"TotalValue\",\"sum\"),\n",
    "        total_transactions=(\"TransactionID\",\"count\"),\n",
    "        avg_quantity=(\"Quantity\",\"mean\"),\n",
    "        num_unique_products=(\"ProductID\",\"nunique\"),\n",
    "    )\n",
    "    .reset_index()\n",
    ")"
   ]
  },
  {
   "cell_type": "code",
   "execution_count": 14,
   "id": "5d2643a4-9f08-45d7-bd7e-88e3a3e7593e",
   "metadata": {},
   "outputs": [],
   "source": [
    "# Merge with demographic data (Region encoded as dummy variables)\n",
    "customer_features=customer_features.merge(\n",
    "    pd.get_dummies(customers[[\"CustomerID\",\"Region\"]],columns=[\"Region\"]),on=\"CustomerID\",how=\"left\"\n",
    ")"
   ]
  },
  {
   "cell_type": "code",
   "execution_count": 15,
   "id": "ab2cd940-71ab-443e-8020-8c8fdb30cdc6",
   "metadata": {},
   "outputs": [],
   "source": [
    "# Standardize features\n",
    "scaler = StandardScaler()\n",
    "feature_cols = [col for col in customer_features.columns if col != \"CustomerID\"]\n",
    "features_scaled = scaler.fit_transform(customer_features[feature_cols])"
   ]
  },
  {
   "cell_type": "code",
   "execution_count": 16,
   "id": "e74b9797-f54f-4d72-b92e-f6218609d093",
   "metadata": {},
   "outputs": [],
   "source": [
    "# Calculate cosine similarity between customers\n",
    "similarity_matrix = cosine_similarity(features_scaled)"
   ]
  },
  {
   "cell_type": "code",
   "execution_count": 17,
   "id": "11c16833-2cda-44a1-8665-ffdbb6aadf81",
   "metadata": {},
   "outputs": [],
   "source": [
    "# Create a lookalike map for the first 20 customers\n",
    "lookalike_map={}\n",
    "for i, customer_id in enumerate(customer_features[\"CustomerID\"]):\n",
    "    if customer_id in first_20_customers[\"CustomerID\"].values:\n",
    "        similarities=similarity_matrix[i]\n",
    "        similar_customers = sorted(\n",
    "            [\n",
    "                (customer_features[\"CustomerID\"].iloc[j], similarities[j])\n",
    "                for j in range(len(similarities))\n",
    "                if j != i\n",
    "            ],\n",
    "            key=lambda x: x[1],\n",
    "            reverse=True,\n",
    "        )\n",
    "        lookalike_map[customer_id]=similar_customers[:3]"
   ]
  },
  {
   "cell_type": "code",
   "execution_count": 18,
   "id": "38e90913-d4ca-449e-9c73-50dab00cf92b",
   "metadata": {},
   "outputs": [
    {
     "name": "stdout",
     "output_type": "stream",
     "text": [
      "Customer C0001 lookalikes:\n",
      "  - C0107: 0.9968\n",
      "  - C0174: 0.9907\n",
      "  - C0048: 0.9891\n",
      "Customer C0002 lookalikes:\n",
      "  - C0142: 0.9788\n",
      "  - C0177: 0.9714\n",
      "  - C0186: 0.9659\n",
      "Customer C0003 lookalikes:\n",
      "  - C0091: 0.9085\n",
      "  - C0120: 0.9047\n",
      "  - C0129: 0.9029\n",
      "Customer C0004 lookalikes:\n",
      "  - C0113: 0.9842\n",
      "  - C0104: 0.9688\n",
      "  - C0102: 0.9648\n",
      "Customer C0005 lookalikes:\n",
      "  - C0186: 0.9986\n",
      "  - C0140: 0.9759\n",
      "  - C0159: 0.9745\n",
      "Customer C0006 lookalikes:\n",
      "  - C0168: 0.9807\n",
      "  - C0171: 0.9276\n",
      "  - C0133: 0.9156\n",
      "Customer C0007 lookalikes:\n",
      "  - C0159: 0.9946\n",
      "  - C0115: 0.9929\n",
      "  - C0092: 0.9735\n",
      "Customer C0008 lookalikes:\n",
      "  - C0098: 0.9389\n",
      "  - C0139: 0.9358\n",
      "  - C0049: 0.9229\n",
      "Customer C0009 lookalikes:\n",
      "  - C0198: 0.9588\n",
      "  - C0119: 0.9387\n",
      "  - C0103: 0.9114\n",
      "Customer C0010 lookalikes:\n",
      "  - C0166: 0.9739\n",
      "  - C0197: 0.9690\n",
      "  - C0073: 0.9548\n",
      "Customer C0011 lookalikes:\n",
      "  - C0107: 0.9805\n",
      "  - C0048: 0.9804\n",
      "  - C0001: 0.9746\n",
      "Customer C0012 lookalikes:\n",
      "  - C0153: 0.9712\n",
      "  - C0013: 0.9706\n",
      "  - C0102: 0.9703\n",
      "Customer C0013 lookalikes:\n",
      "  - C0102: 0.9888\n",
      "  - C0155: 0.9881\n",
      "  - C0104: 0.9857\n",
      "Customer C0014 lookalikes:\n",
      "  - C0060: 0.9996\n",
      "  - C0063: 0.9607\n",
      "  - C0198: 0.9531\n",
      "Customer C0015 lookalikes:\n",
      "  - C0033: 0.9877\n",
      "  - C0131: 0.9676\n",
      "  - C0042: 0.9674\n",
      "Customer C0016 lookalikes:\n",
      "  - C0154: 0.9589\n",
      "  - C0183: 0.9515\n",
      "  - C0189: 0.9440\n",
      "Customer C0017 lookalikes:\n",
      "  - C0124: 0.9773\n",
      "  - C0075: 0.9584\n",
      "  - C0051: 0.9353\n",
      "Customer C0018 lookalikes:\n",
      "  - C0079: 0.9014\n",
      "  - C0117: 0.8959\n",
      "  - C0026: 0.8758\n",
      "Customer C0019 lookalikes:\n",
      "  - C0172: 0.9953\n",
      "  - C0127: 0.9745\n",
      "  - C0069: 0.9504\n",
      "Customer C0020 lookalikes:\n",
      "  - C0036: 0.9406\n",
      "  - C0050: 0.8948\n",
      "  - C0033: 0.8856\n"
     ]
    }
   ],
   "source": [
    "# Display lookalike map\n",
    "for cust_id, lookalikes in lookalike_map.items():\n",
    "    print(f\"Customer {cust_id} lookalikes:\")\n",
    "    for similar_cust, score in lookalikes:\n",
    "        print(f\"  - {similar_cust}: {score:.4f}\")"
   ]
  },
  {
   "cell_type": "code",
   "execution_count": 19,
   "id": "c2ffe307-90a0-411d-ac15-3e12c2ed723e",
   "metadata": {},
   "outputs": [
    {
     "name": "stdout",
     "output_type": "stream",
     "text": [
      "\n",
      "Lookalike map saved to 'Lookalike.csv'\n"
     ]
    }
   ],
   "source": [
    "# Save the lookalike map to a CSV file\n",
    "lookalike_df = pd.DataFrame([\n",
    "    {\"CustomerID\": cust_id, \"Lookalikes\": str(lookalikes)}\n",
    "    for cust_id, lookalikes in lookalike_map.items()\n",
    "])\n",
    "lookalike_df.to_csv(\"Lookalike.csv\", index=False)\n",
    "print(\"\\nLookalike map saved to 'Lookalike.csv'\")"
   ]
  },
  {
   "cell_type": "code",
   "execution_count": null,
   "id": "52918f33-76c5-48c2-bbcd-9f6ba10dd637",
   "metadata": {},
   "outputs": [],
   "source": []
  },
  {
   "cell_type": "code",
   "execution_count": null,
   "id": "ee65d012-fb22-46c8-a001-dbb8b32f1685",
   "metadata": {},
   "outputs": [],
   "source": []
  },
  {
   "cell_type": "code",
   "execution_count": null,
   "id": "9d715b82-e2eb-496f-9c13-2fcb811d34d0",
   "metadata": {},
   "outputs": [],
   "source": []
  }
 ],
 "metadata": {
  "kernelspec": {
   "display_name": "Python 3 (ipykernel)",
   "language": "python",
   "name": "python3"
  },
  "language_info": {
   "codemirror_mode": {
    "name": "ipython",
    "version": 3
   },
   "file_extension": ".py",
   "mimetype": "text/x-python",
   "name": "python",
   "nbconvert_exporter": "python",
   "pygments_lexer": "ipython3",
   "version": "3.11.7"
  }
 },
 "nbformat": 4,
 "nbformat_minor": 5
}
